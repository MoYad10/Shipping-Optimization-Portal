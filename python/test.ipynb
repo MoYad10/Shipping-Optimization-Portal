{
 "cells": [
  {
   "cell_type": "code",
   "execution_count": 1,
   "metadata": {},
   "outputs": [],
   "source": [
    "import calls, classy, actions, content, display\n"
   ]
  },
  {
   "cell_type": "markdown",
   "metadata": {},
   "source": [
    "# Get API Key"
   ]
  },
  {
   "cell_type": "code",
   "execution_count": 2,
   "metadata": {},
   "outputs": [],
   "source": [
    "setKey = content.demoCreds\n",
    "\n",
    "# Start a Seller\n",
    "sessionSeller = classy.Seller(setKey, True)\n"
   ]
  },
  {
   "cell_type": "code",
   "execution_count": 3,
   "metadata": {},
   "outputs": [],
   "source": [
    "\n",
    "resetKey = actions.set_auth(setKey)\n"
   ]
  },
  {
   "cell_type": "markdown",
   "metadata": {},
   "source": [
    "# resetKey\n"
   ]
  },
  {
   "cell_type": "code",
   "execution_count": 54,
   "metadata": {},
   "outputs": [],
   "source": [
    "a=resetKey[3]['carriers'][0]"
   ]
  },
  {
   "cell_type": "code",
   "execution_count": 55,
   "metadata": {},
   "outputs": [
    {
     "data": {
      "text/plain": [
       "dict_keys(['carrier_id', 'carrier_code', 'account_number', 'requires_funded_amount', 'balance', 'nickname', 'friendly_name', 'primary', 'has_multi_package_supporting_services', 'supports_label_messages', 'services', 'packages', 'options'])"
      ]
     },
     "execution_count": 55,
     "metadata": {},
     "output_type": "execute_result"
    }
   ],
   "source": [
    "a.keys()"
   ]
  },
  {
   "cell_type": "code",
   "execution_count": 58,
   "metadata": {},
   "outputs": [
    {
     "data": {
      "text/plain": [
       "('se-103281', 'stamps_com', None)"
      ]
     },
     "execution_count": 58,
     "metadata": {},
     "output_type": "execute_result"
    }
   ],
   "source": [
    "a['carrier_id'], a['carrier_code'],a['account_number']"
   ]
  },
  {
   "cell_type": "code",
   "execution_count": 59,
   "metadata": {},
   "outputs": [
    {
     "data": {
      "text/plain": [
       "(True, 0.0, 'Free', 'Stamps.com')"
      ]
     },
     "execution_count": 59,
     "metadata": {},
     "output_type": "execute_result"
    }
   ],
   "source": [
    "a['requires_funded_amount'], a['balance'],a['nickname'],a['friendly_name']"
   ]
  },
  {
   "cell_type": "code",
   "execution_count": 62,
   "metadata": {},
   "outputs": [
    {
     "data": {
      "text/plain": [
       "(False, 'Stamps.com')"
      ]
     },
     "execution_count": 62,
     "metadata": {},
     "output_type": "execute_result"
    }
   ],
   "source": [
    "a['has_multi_package_supporting_services'],a['friendly_name']"
   ]
  },
  {
   "cell_type": "code",
   "execution_count": 71,
   "metadata": {},
   "outputs": [
    {
     "data": {
      "text/plain": [
       "[{'name': 'non_machinable', 'default_value': 'false', 'description': ''}]"
      ]
     },
     "execution_count": 71,
     "metadata": {},
     "output_type": "execute_result"
    }
   ],
   "source": [
    "a['options']"
   ]
  },
  {
   "cell_type": "code",
   "execution_count": 69,
   "metadata": {},
   "outputs": [
    {
     "data": {
      "text/plain": [
       "{'package_id': None,\n",
       " 'package_code': 'regional_rate_box_a',\n",
       " 'name': 'Regional Rate Box A',\n",
       " 'description': 'Regional Rate Box A'}"
      ]
     },
     "execution_count": 69,
     "metadata": {},
     "output_type": "execute_result"
    }
   ],
   "source": [
    "a['packages'][10]"
   ]
  },
  {
   "cell_type": "code",
   "execution_count": 72,
   "metadata": {},
   "outputs": [
    {
     "data": {
      "text/plain": [
       "[{'carrier_id': 'se-103281',\n",
       "  'carrier_code': 'stamps_com',\n",
       "  'service_code': 'usps_first_class_mail',\n",
       "  'name': 'USPS First Class Mail',\n",
       "  'domestic': True,\n",
       "  'international': False,\n",
       "  'is_multi_package_supported': False},\n",
       " {'carrier_id': 'se-103281',\n",
       "  'carrier_code': 'stamps_com',\n",
       "  'service_code': 'usps_media_mail',\n",
       "  'name': 'USPS Media Mail',\n",
       "  'domestic': True,\n",
       "  'international': False,\n",
       "  'is_multi_package_supported': False},\n",
       " {'carrier_id': 'se-103281',\n",
       "  'carrier_code': 'stamps_com',\n",
       "  'service_code': 'usps_parcel_select',\n",
       "  'name': 'USPS Parcel Select Ground',\n",
       "  'domestic': True,\n",
       "  'international': False,\n",
       "  'is_multi_package_supported': False},\n",
       " {'carrier_id': 'se-103281',\n",
       "  'carrier_code': 'stamps_com',\n",
       "  'service_code': 'usps_priority_mail',\n",
       "  'name': 'USPS Priority Mail',\n",
       "  'domestic': True,\n",
       "  'international': False,\n",
       "  'is_multi_package_supported': False},\n",
       " {'carrier_id': 'se-103281',\n",
       "  'carrier_code': 'stamps_com',\n",
       "  'service_code': 'usps_priority_mail_express',\n",
       "  'name': 'USPS Priority Mail Express',\n",
       "  'domestic': True,\n",
       "  'international': False,\n",
       "  'is_multi_package_supported': False},\n",
       " {'carrier_id': 'se-103281',\n",
       "  'carrier_code': 'stamps_com',\n",
       "  'service_code': 'usps_first_class_mail_international',\n",
       "  'name': 'USPS First Class Mail Intl',\n",
       "  'domestic': False,\n",
       "  'international': True,\n",
       "  'is_multi_package_supported': False},\n",
       " {'carrier_id': 'se-103281',\n",
       "  'carrier_code': 'stamps_com',\n",
       "  'service_code': 'usps_priority_mail_international',\n",
       "  'name': 'USPS Priority Mail Intl',\n",
       "  'domestic': False,\n",
       "  'international': True,\n",
       "  'is_multi_package_supported': False},\n",
       " {'carrier_id': 'se-103281',\n",
       "  'carrier_code': 'stamps_com',\n",
       "  'service_code': 'usps_priority_mail_express_international',\n",
       "  'name': 'USPS Priority Mail Express Intl',\n",
       "  'domestic': False,\n",
       "  'international': True,\n",
       "  'is_multi_package_supported': False}]"
      ]
     },
     "execution_count": 72,
     "metadata": {},
     "output_type": "execute_result"
    }
   ],
   "source": [
    "a['services']"
   ]
  },
  {
   "cell_type": "code",
   "execution_count": null,
   "metadata": {},
   "outputs": [],
   "source": []
  },
  {
   "cell_type": "code",
   "execution_count": 11,
   "metadata": {},
   "outputs": [
    {
     "name": "stdout",
     "output_type": "stream",
     "text": [
      "API credentials authorized.\n",
      "Associating carrier accounts with this session.\n"
     ]
    }
   ],
   "source": [
    "sessionSeller.apiKey, sessionSeller.validKey = resetKey[1], resetKey[2]\n",
    "\n",
    "sessionSeller.setSellerCarriers(resetKey[3])\n",
    "print(resetKey[0])\n"
   ]
  }
 ],
 "metadata": {
  "kernelspec": {
   "display_name": "Python 3",
   "language": "python",
   "name": "python3"
  },
  "language_info": {
   "codemirror_mode": {
    "name": "ipython",
    "version": 3
   },
   "file_extension": ".py",
   "mimetype": "text/x-python",
   "name": "python",
   "nbconvert_exporter": "python",
   "pygments_lexer": "ipython3",
   "version": "3.6.5"
  }
 },
 "nbformat": 4,
 "nbformat_minor": 2
}
